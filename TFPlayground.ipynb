{
  "nbformat": 4,
  "nbformat_minor": 0,
  "metadata": {
    "colab": {
      "provenance": [],
      "authorship_tag": "ABX9TyP92M3uGhmdACyXwHJdfZ9n",
      "include_colab_link": true
    },
    "kernelspec": {
      "name": "python3",
      "display_name": "Python 3"
    },
    "language_info": {
      "name": "python"
    }
  },
  "cells": [
    {
      "cell_type": "markdown",
      "metadata": {
        "id": "view-in-github",
        "colab_type": "text"
      },
      "source": [
        "<a href=\"https://colab.research.google.com/github/yfhkucing/Tensorflow_playground/blob/master/TFPlayground.ipynb\" target=\"_parent\"><img src=\"https://colab.research.google.com/assets/colab-badge.svg\" alt=\"Open In Colab\"/></a>"
      ]
    },
    {
      "cell_type": "code",
      "execution_count": 1,
      "metadata": {
        "colab": {
          "base_uri": "https://localhost:8080/"
        },
        "id": "M2bKn5R4nfyn",
        "outputId": "6307265e-4493-4630-83bc-f4c37bcb3da0"
      },
      "outputs": [
        {
          "output_type": "stream",
          "name": "stdout",
          "text": [
            "2.9.2\n"
          ]
        }
      ],
      "source": [
        "import tensorflow as tf\n",
        "print(tf.__version__)"
      ]
    },
    {
      "cell_type": "code",
      "source": [
        "#for constant variable, for changeable variable use tf.variable()\n",
        "#scalar\n",
        "scalar = tf.constant(7)\n",
        "#vector\n",
        "vector = tf.constant([7,2])\n",
        "#matrix\n",
        "matrix = tf.constant([[1,2,3],\n",
        "                     [4,5,6]])\n",
        "#tensor\n",
        "tensor = tf.constant([[[1,2,3],\n",
        "                       [4,5,6],\n",
        "                       [2,3,3],\n",
        "                       [4,5,7]],\n",
        "                      [[1,2,3],\n",
        "                       [4,5,6],\n",
        "                       [2,3,3],\n",
        "                       [4,5,7]]])\n",
        "print(scalar.ndim)\n",
        "print(vector.ndim)\n",
        "print(matrix.ndim)\n",
        "print(tensor.ndim)\n",
        "tensor"
      ],
      "metadata": {
        "colab": {
          "base_uri": "https://localhost:8080/"
        },
        "id": "FFgdX4NfnkY-",
        "outputId": "ea00555a-8bc8-47b9-c6b6-68fe73036859"
      },
      "execution_count": 2,
      "outputs": [
        {
          "output_type": "stream",
          "name": "stdout",
          "text": [
            "0\n",
            "1\n",
            "2\n",
            "3\n"
          ]
        },
        {
          "output_type": "execute_result",
          "data": {
            "text/plain": [
              "<tf.Tensor: shape=(2, 4, 3), dtype=int32, numpy=\n",
              "array([[[1, 2, 3],\n",
              "        [4, 5, 6],\n",
              "        [2, 3, 3],\n",
              "        [4, 5, 7]],\n",
              "\n",
              "       [[1, 2, 3],\n",
              "        [4, 5, 6],\n",
              "        [2, 3, 3],\n",
              "        [4, 5, 7]]], dtype=int32)>"
            ]
          },
          "metadata": {},
          "execution_count": 2
        }
      ]
    },
    {
      "cell_type": "code",
      "source": [
        "#random tensor\n",
        "random_tensor = tf.random.Generator.from_seed(42)\n",
        "random_tensor = random_tensor.normal(shape= (3,2))\n",
        "random_tensor"
      ],
      "metadata": {
        "id": "ShQgC-k_ypel",
        "colab": {
          "base_uri": "https://localhost:8080/"
        },
        "outputId": "cd2a109c-6a95-4e49-a1c5-5c114cd9bd27"
      },
      "execution_count": 3,
      "outputs": [
        {
          "output_type": "execute_result",
          "data": {
            "text/plain": [
              "<tf.Tensor: shape=(3, 2), dtype=float32, numpy=\n",
              "array([[-0.7565803 , -0.06854702],\n",
              "       [ 0.07595026, -1.2573844 ],\n",
              "       [-0.23193763, -1.8107855 ]], dtype=float32)>"
            ]
          },
          "metadata": {},
          "execution_count": 3
        }
      ]
    },
    {
      "cell_type": "code",
      "source": [
        "random_tensor2 = tf.random.Generator.from_seed(42)\n",
        "random_tensor2 = random_tensor2.normal(shape= (3,2))\n",
        "random_tensor2"
      ],
      "metadata": {
        "colab": {
          "base_uri": "https://localhost:8080/"
        },
        "id": "Bd7jBuHdoTKD",
        "outputId": "b76eda9f-9e8f-4872-b334-40db0ba68508"
      },
      "execution_count": 4,
      "outputs": [
        {
          "output_type": "execute_result",
          "data": {
            "text/plain": [
              "<tf.Tensor: shape=(3, 2), dtype=float32, numpy=\n",
              "array([[-0.7565803 , -0.06854702],\n",
              "       [ 0.07595026, -1.2573844 ],\n",
              "       [-0.23193763, -1.8107855 ]], dtype=float32)>"
            ]
          },
          "metadata": {},
          "execution_count": 4
        }
      ]
    },
    {
      "cell_type": "code",
      "source": [
        "#shuffle a tensor\n",
        "tensor3 = tf.constant([[10,7],\n",
        "                      [3,4],\n",
        "                      [7,9]])\n",
        "tf.random.shuffle(tensor3)          "
      ],
      "metadata": {
        "colab": {
          "base_uri": "https://localhost:8080/"
        },
        "id": "wU1C_fsBpace",
        "outputId": "702895fd-0429-459d-fd94-559b45f007a4"
      },
      "execution_count": 5,
      "outputs": [
        {
          "output_type": "execute_result",
          "data": {
            "text/plain": [
              "<tf.Tensor: shape=(3, 2), dtype=int32, numpy=\n",
              "array([[10,  7],\n",
              "       [ 7,  9],\n",
              "       [ 3,  4]], dtype=int32)>"
            ]
          },
          "metadata": {},
          "execution_count": 5
        }
      ]
    },
    {
      "cell_type": "code",
      "source": [
        "#indexing tensor\n",
        "tensor3.ndim\n",
        "tensor3[:3,:2]"
      ],
      "metadata": {
        "id": "Ubyg7CpXq-Le",
        "colab": {
          "base_uri": "https://localhost:8080/"
        },
        "outputId": "6a8e5ea0-4727-4ed2-d95a-0bee1562adc2"
      },
      "execution_count": 6,
      "outputs": [
        {
          "output_type": "execute_result",
          "data": {
            "text/plain": [
              "<tf.Tensor: shape=(3, 2), dtype=int32, numpy=\n",
              "array([[10,  7],\n",
              "       [ 3,  4],\n",
              "       [ 7,  9]], dtype=int32)>"
            ]
          },
          "metadata": {},
          "execution_count": 6
        }
      ]
    },
    {
      "cell_type": "code",
      "source": [
        "rank_4_tensor = tf.zeros([4,3,5,6])\n",
        "#rank_4_tensor.ndim\n",
        "print(rank_4_tensor[:2,:2,:1,:2])"
      ],
      "metadata": {
        "colab": {
          "base_uri": "https://localhost:8080/"
        },
        "id": "DynSrv90INpF",
        "outputId": "4ef83bda-6578-494a-dfbc-ff20b798b024"
      },
      "execution_count": 7,
      "outputs": [
        {
          "output_type": "stream",
          "name": "stdout",
          "text": [
            "tf.Tensor(\n",
            "[[[[0. 0.]]\n",
            "\n",
            "  [[0. 0.]]]\n",
            "\n",
            "\n",
            " [[[0. 0.]]\n",
            "\n",
            "  [[0. 0.]]]], shape=(2, 2, 1, 2), dtype=float32)\n"
          ]
        }
      ]
    },
    {
      "cell_type": "code",
      "source": [
        "rank_4_tensor[:3,:3,:3,-1]"
      ],
      "metadata": {
        "colab": {
          "base_uri": "https://localhost:8080/"
        },
        "id": "qhSR-w8AJhdu",
        "outputId": "9da047aa-36f1-4083-ae43-1f0cfb4c3eca"
      },
      "execution_count": 8,
      "outputs": [
        {
          "output_type": "execute_result",
          "data": {
            "text/plain": [
              "<tf.Tensor: shape=(3, 3, 3), dtype=float32, numpy=\n",
              "array([[[0., 0., 0.],\n",
              "        [0., 0., 0.],\n",
              "        [0., 0., 0.]],\n",
              "\n",
              "       [[0., 0., 0.],\n",
              "        [0., 0., 0.],\n",
              "        [0., 0., 0.]],\n",
              "\n",
              "       [[0., 0., 0.],\n",
              "        [0., 0., 0.],\n",
              "        [0., 0., 0.]]], dtype=float32)>"
            ]
          },
          "metadata": {},
          "execution_count": 8
        }
      ]
    },
    {
      "cell_type": "code",
      "source": [
        "# tensor basic operation\n",
        "#addition\n",
        "tensor1 = tf.constant([[10,7],\n",
        "                      [3,4]])\n",
        "tensor1 + 10"
      ],
      "metadata": {
        "colab": {
          "base_uri": "https://localhost:8080/"
        },
        "id": "74PbHorSK65c",
        "outputId": "c165fe9b-b714-4d3e-adce-489f6bcea345"
      },
      "execution_count": 9,
      "outputs": [
        {
          "output_type": "execute_result",
          "data": {
            "text/plain": [
              "<tf.Tensor: shape=(2, 2), dtype=int32, numpy=\n",
              "array([[20, 17],\n",
              "       [13, 14]], dtype=int32)>"
            ]
          },
          "metadata": {},
          "execution_count": 9
        }
      ]
    },
    {
      "cell_type": "code",
      "source": [
        "#multiply\n",
        "tensor1 * 10"
      ],
      "metadata": {
        "colab": {
          "base_uri": "https://localhost:8080/"
        },
        "id": "gbxmsVN6MVUO",
        "outputId": "f39c401f-481e-4839-a7eb-8035af0d4394"
      },
      "execution_count": 10,
      "outputs": [
        {
          "output_type": "execute_result",
          "data": {
            "text/plain": [
              "<tf.Tensor: shape=(2, 2), dtype=int32, numpy=\n",
              "array([[100,  70],\n",
              "       [ 30,  40]], dtype=int32)>"
            ]
          },
          "metadata": {},
          "execution_count": 10
        }
      ]
    },
    {
      "cell_type": "code",
      "source": [
        "#using built in tensorflow operation\n",
        "#tf.math.multiply(a,b)\n",
        "tf.multiply(tensor1, 10)"
      ],
      "metadata": {
        "colab": {
          "base_uri": "https://localhost:8080/"
        },
        "id": "5gaBFGo_MxzQ",
        "outputId": "a9c8ad11-0547-4908-dd65-871866b17637"
      },
      "execution_count": 11,
      "outputs": [
        {
          "output_type": "execute_result",
          "data": {
            "text/plain": [
              "<tf.Tensor: shape=(2, 2), dtype=int32, numpy=\n",
              "array([[100,  70],\n",
              "       [ 30,  40]], dtype=int32)>"
            ]
          },
          "metadata": {},
          "execution_count": 11
        }
      ]
    },
    {
      "cell_type": "code",
      "source": [
        "# matrix multiplication (dot product)\n",
        "#tf.linalg.matmul\n",
        "tf.matmul(tensor1,tensor1)"
      ],
      "metadata": {
        "colab": {
          "base_uri": "https://localhost:8080/"
        },
        "id": "3NC8GSQONFw5",
        "outputId": "6a2781ef-ae72-4090-ee52-d73feff77c95"
      },
      "execution_count": 12,
      "outputs": [
        {
          "output_type": "execute_result",
          "data": {
            "text/plain": [
              "<tf.Tensor: shape=(2, 2), dtype=int32, numpy=\n",
              "array([[121,  98],\n",
              "       [ 42,  37]], dtype=int32)>"
            ]
          },
          "metadata": {},
          "execution_count": 12
        }
      ]
    },
    {
      "cell_type": "code",
      "source": [
        "tensor2 = tf.constant([[1,2,5],\n",
        "                       [7,2,1],\n",
        "                       [3,3,3]])\n",
        "tensor3 = tf.constant([[3,5],\n",
        "                       [6,7],\n",
        "                       [1,8]])\n",
        "tf.matmul(tensor2,tensor3)"
      ],
      "metadata": {
        "colab": {
          "base_uri": "https://localhost:8080/"
        },
        "id": "RSIAT3ZLPRBj",
        "outputId": "425d6a65-03ce-4d8a-dead-542de6280b89"
      },
      "execution_count": 13,
      "outputs": [
        {
          "output_type": "execute_result",
          "data": {
            "text/plain": [
              "<tf.Tensor: shape=(3, 2), dtype=int32, numpy=\n",
              "array([[20, 59],\n",
              "       [34, 57],\n",
              "       [30, 60]], dtype=int32)>"
            ]
          },
          "metadata": {},
          "execution_count": 13
        }
      ]
    },
    {
      "cell_type": "code",
      "source": [
        "tensor2 = tf.constant([[1,2],\n",
        "                       [7,2],\n",
        "                       [3,3]])\n",
        "tensor3 = tf.constant([[3,5],\n",
        "                       [6,7],\n",
        "                       [1,8]])\n",
        "transpose3 = tf.transpose(tensor3)\n",
        "print(transpose3)\n",
        "tf.matmul(tensor2,tf.transpose(tensor3))"
      ],
      "metadata": {
        "colab": {
          "base_uri": "https://localhost:8080/"
        },
        "id": "iwvtpRjiQHco",
        "outputId": "321bd91f-ddb9-4ea7-ac7a-73f0ed742826"
      },
      "execution_count": 14,
      "outputs": [
        {
          "output_type": "stream",
          "name": "stdout",
          "text": [
            "tf.Tensor(\n",
            "[[3 6 1]\n",
            " [5 7 8]], shape=(2, 3), dtype=int32)\n"
          ]
        },
        {
          "output_type": "execute_result",
          "data": {
            "text/plain": [
              "<tf.Tensor: shape=(3, 3), dtype=int32, numpy=\n",
              "array([[13, 20, 17],\n",
              "       [31, 56, 23],\n",
              "       [24, 39, 27]], dtype=int32)>"
            ]
          },
          "metadata": {},
          "execution_count": 14
        }
      ]
    },
    {
      "cell_type": "code",
      "source": [
        "#aggregating tensor (condensing tensor)\n",
        "D = tf.constant([-7,-10])\n",
        "# absolute value\n",
        "print(tf.abs(D))\n",
        "#min value\n",
        "print(tf.reduce_min(D))\n",
        "#max value\n",
        "print(tf.reduce_max(D))\n",
        "#mean value\n",
        "print(tf.reduce_mean(D))"
      ],
      "metadata": {
        "id": "FXSNEgu5RZq4",
        "colab": {
          "base_uri": "https://localhost:8080/"
        },
        "outputId": "1de4d1d3-3cdf-44c7-9b7c-013553f3c6e5"
      },
      "execution_count": 21,
      "outputs": [
        {
          "output_type": "stream",
          "name": "stdout",
          "text": [
            "tf.Tensor([ 7 10], shape=(2,), dtype=int32)\n",
            "tf.Tensor(-10, shape=(), dtype=int32)\n",
            "tf.Tensor(-7, shape=(), dtype=int32)\n",
            "tf.Tensor(-8, shape=(), dtype=int32)\n"
          ]
        }
      ]
    },
    {
      "cell_type": "code",
      "source": [
        "import numpy as np\n",
        "#troubleshooting tensor\n",
        "D = tf.constant([[np.random.randint(low=0, high=100, size=50)],[np.random.randint(low=0, high=100, size=50)]])"
      ],
      "metadata": {
        "colab": {
          "base_uri": "https://localhost:8080/"
        },
        "id": "wxOPENgbsD83",
        "outputId": "bfb2d094-a035-430c-f37a-c2970acc643d"
      },
      "execution_count": 26,
      "outputs": [
        {
          "output_type": "execute_result",
          "data": {
            "text/plain": [
              "<tf.Tensor: shape=(2, 1, 50), dtype=int32, numpy=\n",
              "array([[[46, 67, 99, 79,  3, 76, 83, 11, 58, 92,  8, 96, 59, 34,  0, 47,\n",
              "         10, 83, 48, 16, 59, 93, 51, 50, 64, 53, 25, 92, 96, 81, 21, 99,\n",
              "         89,  5, 76, 29, 80,  4, 29, 95, 65, 18, 76, 98, 56, 67, 74, 93,\n",
              "          1, 29]],\n",
              "\n",
              "       [[95,  0, 65, 66, 66, 67, 91, 27, 82, 18,  3, 56, 98, 44, 19, 78,\n",
              "         96, 18, 77, 80, 72, 78, 30,  7, 16, 27,  8,  0, 88, 83, 61, 43,\n",
              "         99, 80, 79, 30, 14, 52, 81, 71, 16, 74, 94, 94, 65, 15,  8, 76,\n",
              "         56, 24]]], dtype=int32)>"
            ]
          },
          "metadata": {},
          "execution_count": 26
        }
      ]
    },
    {
      "cell_type": "code",
      "source": [
        "import tensorflow_probability as tfp\n",
        "#variance of tensor\n",
        "tfp.stats.variance(D)"
      ],
      "metadata": {
        "colab": {
          "base_uri": "https://localhost:8080/"
        },
        "id": "cjaPmFThtcLr",
        "outputId": "53f5aa3a-1d70-476a-df4a-7a4c4e4181ce"
      },
      "execution_count": 27,
      "outputs": [
        {
          "output_type": "execute_result",
          "data": {
            "text/plain": [
              "<tf.Tensor: shape=(1, 50), dtype=int32, numpy=\n",
              "array([[ 600, 1122,  289,   42,  992,   20,   16,   64,  144, 1369,    6,\n",
              "         400,  380,   25,   90,  240, 1849, 1056,  210, 1024,   42,   56,\n",
              "         110,  462,  576,  169,   72, 2116,   16,    1,  400,  784,   25,\n",
              "        1406,    2,    0, 1089,  576,  676,  144,  600,  784,   81,    4,\n",
              "          20,  676, 1089,   72,  756,    6]], dtype=int32)>"
            ]
          },
          "metadata": {},
          "execution_count": 27
        }
      ]
    },
    {
      "cell_type": "code",
      "source": [
        "tf.math.reduce_std(tf.cast(D,dtype=tf.float32))"
      ],
      "metadata": {
        "colab": {
          "base_uri": "https://localhost:8080/"
        },
        "id": "fhXCsYTyvGaP",
        "outputId": "31569543-66a8-4dd5-88b3-aa7242c4ac66"
      },
      "execution_count": 28,
      "outputs": [
        {
          "output_type": "execute_result",
          "data": {
            "text/plain": [
              "<tf.Tensor: shape=(), dtype=float32, numpy=31.713245>"
            ]
          },
          "metadata": {},
          "execution_count": 28
        }
      ]
    },
    {
      "cell_type": "code",
      "source": [
        "#positional max and min of tensor\n",
        "#tf.argmin(D)\n",
        "tf.argmax(D)"
      ],
      "metadata": {
        "colab": {
          "base_uri": "https://localhost:8080/"
        },
        "id": "azjpJIr9vpJc",
        "outputId": "fc22a30d-422f-4bdd-dcc4-5f89c08ee6db"
      },
      "execution_count": 36,
      "outputs": [
        {
          "output_type": "execute_result",
          "data": {
            "text/plain": [
              "<tf.Tensor: shape=(1, 50), dtype=int64, numpy=\n",
              "array([[1, 0, 0, 0, 1, 0, 1, 1, 1, 0, 0, 0, 1, 1, 1, 1, 1, 0, 1, 1, 1, 0,\n",
              "        0, 0, 0, 0, 0, 0, 0, 1, 1, 0, 1, 1, 1, 1, 0, 1, 1, 0, 0, 1, 1, 0,\n",
              "        1, 0, 0, 0, 1, 0]])>"
            ]
          },
          "metadata": {},
          "execution_count": 36
        }
      ]
    },
    {
      "cell_type": "code",
      "source": [],
      "metadata": {
        "id": "itL2ts3t4Q_3"
      },
      "execution_count": null,
      "outputs": []
    }
  ]
}