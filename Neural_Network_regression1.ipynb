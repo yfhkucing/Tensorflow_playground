{
  "nbformat": 4,
  "nbformat_minor": 0,
  "metadata": {
    "colab": {
      "provenance": [],
      "collapsed_sections": [],
      "authorship_tag": "ABX9TyP/7xMMekkuIVEuhpz91F3S",
      "include_colab_link": true
    },
    "kernelspec": {
      "name": "python3",
      "display_name": "Python 3"
    },
    "language_info": {
      "name": "python"
    }
  },
  "cells": [
    {
      "cell_type": "markdown",
      "metadata": {
        "id": "view-in-github",
        "colab_type": "text"
      },
      "source": [
        "<a href=\"https://colab.research.google.com/github/yfhkucing/Tensorflow_playground/blob/master/Neural_Network_regression1.ipynb\" target=\"_parent\"><img src=\"https://colab.research.google.com/assets/colab-badge.svg\" alt=\"Open In Colab\"/></a>"
      ]
    },
    {
      "cell_type": "code",
      "source": [
        "import tensorflow as tf\n",
        "tf.__version__"
      ],
      "metadata": {
        "colab": {
          "base_uri": "https://localhost:8080/",
          "height": 35
        },
        "id": "Taqm6kdhZj7j",
        "outputId": "d735b05e-f8f1-44cf-8383-ac6be1209d20"
      },
      "execution_count": 1,
      "outputs": [
        {
          "output_type": "execute_result",
          "data": {
            "text/plain": [
              "'2.9.2'"
            ],
            "application/vnd.google.colaboratory.intrinsic+json": {
              "type": "string"
            }
          },
          "metadata": {},
          "execution_count": 1
        }
      ]
    },
    {
      "cell_type": "code",
      "source": [
        "import numpy as np\n",
        "import matplotlib.pyplot as plt\n",
        "\n",
        "# Create features\n",
        "X = np.array([-7.0, -4.0, -1.0, 2.0, 5.0, 8.0, 11.0, 14.0])\n",
        "\n",
        "# Create labels\n",
        "y = np.array([3.0, 6.0, 9.0, 12.0, 15.0, 18.0, 21.0, 24.0])\n",
        "\n",
        "# Visualize it\n",
        "plt.scatter(X, y);"
      ],
      "metadata": {
        "colab": {
          "base_uri": "https://localhost:8080/",
          "height": 269
        },
        "id": "8yb6j0kHr3l2",
        "outputId": "5449417f-5ee8-4168-86cd-3f030050f0ce"
      },
      "execution_count": 2,
      "outputs": [
        {
          "output_type": "display_data",
          "data": {
            "text/plain": [
              "<Figure size 432x288 with 1 Axes>"
            ],
            "image/png": "[encoded data removed]"
          },
          "metadata": {
            "needs_background": "light"
          }
        }
      ]
    },
    {
      "cell_type": "code",
      "source": [
        "y == X+10"
      ],
      "metadata": {
        "colab": {
          "base_uri": "https://localhost:8080/"
        },
        "id": "AORYBkcNU_Zi",
        "outputId": "84f8227b-2446-49ac-90ae-162f777c6569"
      },
      "execution_count": 3,
      "outputs": [
        {
          "output_type": "execute_result",
          "data": {
            "text/plain": [
              "array([ True,  True,  True,  True,  True,  True,  True,  True])"
            ]
          },
          "metadata": {},
          "execution_count": 3
        }
      ]
    },
    {
      "cell_type": "code",
      "source": [
        "# Take a single example of X\n",
        "input_shape = X[0].shape \n",
        "\n",
        "# Take a single example of y\n",
        "output_shape = y[0].shape\n",
        "\n",
        "input_shape, output_shape,X[0].ndim,y[0].ndim # these are both scalars (no shape)"
      ],
      "metadata": {
        "colab": {
          "base_uri": "https://localhost:8080/"
        },
        "id": "FMW46UsHUxA-",
        "outputId": "d03d32c4-6508-4ba6-ea65-16dc2fd05ad6"
      },
      "execution_count": 4,
      "outputs": [
        {
          "output_type": "execute_result",
          "data": {
            "text/plain": [
              "((), (), 0, 0)"
            ]
          },
          "metadata": {},
          "execution_count": 4
        }
      ]
    },
    {
      "cell_type": "code",
      "source": [
        "x = tf.constant(X)\n",
        "y = tf.constant(y)"
      ],
      "metadata": {
        "id": "y-bhYcyVVGwm"
      },
      "execution_count": 5,
      "outputs": []
    },
    {
      "cell_type": "code",
      "source": [
        "# Set random seed\n",
        "tf.random.set_seed(42)\n",
        "\n",
        "# Create a model using the Sequential API\n",
        "model = tf.keras.Sequential([\n",
        "  tf.keras.layers.Dense(100, activation='relu'),\n",
        "  tf.keras.layers.Dense(100, activation='relu'),\n",
        "  tf.keras.layers.Dense(100, activation='relu'),\n",
        "  tf.keras.layers.Dense(1)\n",
        "])\n",
        "\n",
        "# Compile the model\n",
        "model.compile(loss=\"mae\", # mae is short for mean absolute error\n",
        "              optimizer=\"adam\", #tf.keras.optimizers.SGD(), # SGD is short for stochastic gradient descent\n",
        "              metrics=\"mae\")\n",
        "\n",
        "# Fit the model\n",
        "# model.fit(X, y, epochs=5) # this will break with TensorFlow 2.7.0+\n",
        "model.fit(tf.expand_dims(x, axis=-1), y, epochs=60)"
      ],
      "metadata": {
        "colab": {
          "base_uri": "https://localhost:8080/"
        },
        "id": "aZDjD7-sVi3m",
        "outputId": "8908a0d9-1dc3-4ea1-e658-0c9d00d6ef2b"
      },
      "execution_count": 16,
      "outputs": [
        {
          "output_type": "stream",
          "name": "stdout",
          "text": [
            "Epoch 1/60\n",
            "1/1 [==============================] - 2s 2s/step - loss: 13.3030 - mae: 13.3030\n",
            "Epoch 2/60\n",
            "1/1 [==============================] - 0s 17ms/step - loss: 12.9322 - mae: 12.9322\n",
            "Epoch 3/60\n",
            "1/1 [==============================] - 0s 19ms/step - loss: 12.5772 - mae: 12.5772\n",
            "Epoch 4/60\n",
            "1/1 [==============================] - 0s 32ms/step - loss: 12.2333 - mae: 12.2333\n",
            "Epoch 5/60\n",
            "1/1 [==============================] - 0s 16ms/step - loss: 11.9221 - mae: 11.9221\n",
            "Epoch 6/60\n",
            "1/1 [==============================] - 0s 17ms/step - loss: 11.6151 - mae: 11.6151\n",
            "Epoch 7/60\n",
            "1/1 [==============================] - 0s 14ms/step - loss: 11.2956 - mae: 11.2956\n",
            "Epoch 8/60\n",
            "1/1 [==============================] - 0s 16ms/step - loss: 10.9702 - mae: 10.9702\n",
            "Epoch 9/60\n",
            "1/1 [==============================] - 0s 16ms/step - loss: 10.6821 - mae: 10.6821\n",
            "Epoch 10/60\n",
            "1/1 [==============================] - 0s 17ms/step - loss: 10.4218 - mae: 10.4218\n",
            "Epoch 11/60\n",
            "1/1 [==============================] - 0s 17ms/step - loss: 10.1441 - mae: 10.1441\n",
            "Epoch 12/60\n",
            "1/1 [==============================] - 0s 25ms/step - loss: 9.8608 - mae: 9.8608\n",
            "Epoch 13/60\n",
            "1/1 [==============================] - 0s 18ms/step - loss: 9.5596 - mae: 9.5596\n",
            "Epoch 14/60\n",
            "1/1 [==============================] - 0s 14ms/step - loss: 9.2400 - mae: 9.2400\n",
            "Epoch 15/60\n",
            "1/1 [==============================] - 0s 15ms/step - loss: 8.9023 - mae: 8.9023\n",
            "Epoch 16/60\n",
            "1/1 [==============================] - 0s 17ms/step - loss: 8.5475 - mae: 8.5475\n",
            "Epoch 17/60\n",
            "1/1 [==============================] - 0s 22ms/step - loss: 8.1694 - mae: 8.1694\n",
            "Epoch 18/60\n",
            "1/1 [==============================] - 0s 16ms/step - loss: 7.7663 - mae: 7.7663\n",
            "Epoch 19/60\n",
            "1/1 [==============================] - 0s 14ms/step - loss: 7.3391 - mae: 7.3391\n",
            "Epoch 20/60\n",
            "1/1 [==============================] - 0s 30ms/step - loss: 6.8839 - mae: 6.8839\n",
            "Epoch 21/60\n",
            "1/1 [==============================] - 0s 18ms/step - loss: 6.3981 - mae: 6.3981\n",
            "Epoch 22/60\n",
            "1/1 [==============================] - 0s 33ms/step - loss: 5.8766 - mae: 5.8766\n",
            "Epoch 23/60\n",
            "1/1 [==============================] - 0s 11ms/step - loss: 5.3179 - mae: 5.3179\n",
            "Epoch 24/60\n",
            "1/1 [==============================] - 0s 11ms/step - loss: 4.7212 - mae: 4.7212\n",
            "Epoch 25/60\n",
            "1/1 [==============================] - 0s 19ms/step - loss: 4.1533 - mae: 4.1533\n",
            "Epoch 26/60\n",
            "1/1 [==============================] - 0s 21ms/step - loss: 3.9507 - mae: 3.9507\n",
            "Epoch 27/60\n",
            "1/1 [==============================] - 0s 30ms/step - loss: 3.9853 - mae: 3.9853\n",
            "Epoch 28/60\n",
            "1/1 [==============================] - 0s 19ms/step - loss: 4.1112 - mae: 4.1112\n",
            "Epoch 29/60\n",
            "1/1 [==============================] - 0s 18ms/step - loss: 4.2190 - mae: 4.2190\n",
            "Epoch 30/60\n",
            "1/1 [==============================] - 0s 17ms/step - loss: 4.4472 - mae: 4.4472\n",
            "Epoch 31/60\n",
            "1/1 [==============================] - 0s 25ms/step - loss: 4.6174 - mae: 4.6174\n",
            "Epoch 32/60\n",
            "1/1 [==============================] - 0s 20ms/step - loss: 4.7019 - mae: 4.7019\n",
            "Epoch 33/60\n",
            "1/1 [==============================] - 0s 39ms/step - loss: 4.7112 - mae: 4.7112\n",
            "Epoch 34/60\n",
            "1/1 [==============================] - 0s 10ms/step - loss: 4.6568 - mae: 4.6568\n",
            "Epoch 35/60\n",
            "1/1 [==============================] - 0s 13ms/step - loss: 4.5469 - mae: 4.5469\n",
            "Epoch 36/60\n",
            "1/1 [==============================] - 0s 32ms/step - loss: 4.3929 - mae: 4.3929\n",
            "Epoch 37/60\n",
            "1/1 [==============================] - 0s 28ms/step - loss: 4.2031 - mae: 4.2031\n",
            "Epoch 38/60\n",
            "1/1 [==============================] - 0s 19ms/step - loss: 4.0795 - mae: 4.0795\n",
            "Epoch 39/60\n",
            "1/1 [==============================] - 0s 24ms/step - loss: 3.9940 - mae: 3.9940\n",
            "Epoch 40/60\n",
            "1/1 [==============================] - 0s 22ms/step - loss: 3.9104 - mae: 3.9104\n",
            "Epoch 41/60\n",
            "1/1 [==============================] - 0s 29ms/step - loss: 3.8279 - mae: 3.8279\n",
            "Epoch 42/60\n",
            "1/1 [==============================] - 0s 29ms/step - loss: 3.7488 - mae: 3.7488\n",
            "Epoch 43/60\n",
            "1/1 [==============================] - 0s 16ms/step - loss: 3.7764 - mae: 3.7764\n",
            "Epoch 44/60\n",
            "1/1 [==============================] - 0s 34ms/step - loss: 3.8344 - mae: 3.8344\n",
            "Epoch 45/60\n",
            "1/1 [==============================] - 0s 10ms/step - loss: 3.8729 - mae: 3.8729\n",
            "Epoch 46/60\n",
            "1/1 [==============================] - 0s 26ms/step - loss: 3.8955 - mae: 3.8955\n",
            "Epoch 47/60\n",
            "1/1 [==============================] - 0s 19ms/step - loss: 3.9119 - mae: 3.9119\n",
            "Epoch 48/60\n",
            "1/1 [==============================] - 0s 10ms/step - loss: 3.9067 - mae: 3.9067\n",
            "Epoch 49/60\n",
            "1/1 [==============================] - 0s 11ms/step - loss: 3.8920 - mae: 3.8920\n",
            "Epoch 50/60\n",
            "1/1 [==============================] - 0s 11ms/step - loss: 3.8696 - mae: 3.8696\n",
            "Epoch 51/60\n",
            "1/1 [==============================] - 0s 13ms/step - loss: 3.8384 - mae: 3.8384\n",
            "Epoch 52/60\n",
            "1/1 [==============================] - 0s 23ms/step - loss: 3.7981 - mae: 3.7981\n",
            "Epoch 53/60\n",
            "1/1 [==============================] - 0s 19ms/step - loss: 3.7486 - mae: 3.7486\n",
            "Epoch 54/60\n",
            "1/1 [==============================] - 0s 18ms/step - loss: 3.6900 - mae: 3.6900\n",
            "Epoch 55/60\n",
            "1/1 [==============================] - 0s 20ms/step - loss: 3.6264 - mae: 3.6264\n",
            "Epoch 56/60\n",
            "1/1 [==============================] - 0s 23ms/step - loss: 3.6502 - mae: 3.6502\n",
            "Epoch 57/60\n",
            "1/1 [==============================] - 0s 28ms/step - loss: 3.6630 - mae: 3.6630\n",
            "Epoch 58/60\n",
            "1/1 [==============================] - 0s 14ms/step - loss: 3.6669 - mae: 3.6669\n",
            "Epoch 59/60\n",
            "1/1 [==============================] - 0s 22ms/step - loss: 3.6627 - mae: 3.6627\n",
            "Epoch 60/60\n",
            "1/1 [==============================] - 0s 26ms/step - loss: 3.6505 - mae: 3.6505\n"
          ]
        },
        {
          "output_type": "execute_result",
          "data": {
            "text/plain": [
              "<keras.callbacks.History at 0x7fe0a26bead0>"
            ]
          },
          "metadata": {},
          "execution_count": 16
        }
      ]
    },
    {
      "cell_type": "code",
      "source": [
        "#prediction\n",
        "model.predict([17.0])"
      ],
      "metadata": {
        "colab": {
          "base_uri": "https://localhost:8080/"
        },
        "id": "unODLd6KYfqn",
        "outputId": "988c5668-4d87-40f7-98cd-4305c92dea58"
      },
      "execution_count": 17,
      "outputs": [
        {
          "output_type": "stream",
          "name": "stdout",
          "text": [
            "1/1 [==============================] - 0s 89ms/step\n"
          ]
        },
        {
          "output_type": "execute_result",
          "data": {
            "text/plain": [
              "array([[32.80727]], dtype=float32)"
            ]
          },
          "metadata": {},
          "execution_count": 17
        }
      ]
    },
    {
      "cell_type": "code",
      "source": [
        "#improving model\n"
      ],
      "metadata": {
        "id": "fmhXxb30dKUV"
      },
      "execution_count": 15,
      "outputs": []
    }
  ]
}